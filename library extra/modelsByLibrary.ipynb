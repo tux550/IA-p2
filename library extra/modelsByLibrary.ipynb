{
 "cells": [
  {
   "cell_type": "code",
   "execution_count": null,
   "metadata": {},
   "outputs": [],
   "source": [
    "import numpy as np\n",
    "import pandas as pd\n",
    "import matplotlib.pyplot as plt\n",
    "import matplotlib as mpl\n",
    "from sklearn import datasets\n",
    "from sklearn.preprocessing import StandardScaler, scale\n",
    "from sklearn.decomposition import PCA\n",
    "from sklearn.mixture import GaussianMixture\n",
    "import seaborn as sns; sns.set()\n",
    "import gdown\n",
    "from PIL import Image, ImageOps\n",
    "from sklearn.cluster import DBSCAN, KMeans\n",
    "from sklearn.metrics import silhouette_samples, silhouette_score\n",
    "from matplotlib import style\n",
    "style.use('ggplot') or plt.style.use('ggplot')\n",
    "from matplotlib.patches import Ellipse\n",
    "from collections import Counter\n",
    "import warnings\n",
    "warnings.filterwarnings('ignore')"
   ]
  },
  {
   "cell_type": "code",
   "execution_count": null,
   "metadata": {},
   "outputs": [],
   "source": [
    "from google.colab import drive\n",
    "drive.mount('/content/drive')"
   ]
  },
  {
   "attachments": {},
   "cell_type": "markdown",
   "metadata": {},
   "source": [
    "# GMM (Libreria)"
   ]
  },
  {
   "cell_type": "code",
   "execution_count": null,
   "metadata": {},
   "outputs": [],
   "source": [
    "#GMM\n",
    "modelo_gmm = GaussianMixture(n_components=7, covariance_type='full', random_state=123)\n",
    "modelo_gmm.fit(pca_df)"
   ]
  },
  {
   "cell_type": "code",
   "execution_count": null,
   "metadata": {},
   "outputs": [],
   "source": [
    "# Media (componente)\n",
    "modelo_gmm.means_\n",
    "\n",
    "# Ellipses\n",
    "def make_ellipses(gmm, ax):\n",
    "    for n in range(gmm.n_components):\n",
    "        if gmm.covariance_type == 'full':\n",
    "            covariances = gmm.covariances_[n]\n",
    "        elif gmm.covariance_type == 'tied':\n",
    "            covariances = gmm.covariances_\n",
    "        elif gmm.covariance_type == 'diag':\n",
    "            covariances = np.diag(gmm.covariances_[n])\n",
    "        elif gmm.covariance_type == 'spherical':\n",
    "            covariances = np.eye(gmm.means_.shape[1]) * gmm.covariances_[n]\n",
    "        v, w = np.linalg.eigh(covariances)\n",
    "        u = w[0] / np.linalg.norm(w[0])\n",
    "        angle = np.arctan2(u[1], u[0])\n",
    "        angle = 180 * angle / np.pi\n",
    "        v = 2. * np.sqrt(2.) * np.sqrt(v)\n",
    "        \n",
    "        for i in range(1,3):\n",
    "            ell = mpl.patches.Ellipse(gmm.means_[n], i*v[0], i*v[1],\n",
    "                                      180 + angle, color=\"blue\")\n",
    "            ell.set_clip_box(ax.bbox)\n",
    "            ell.set_alpha(0.1)\n",
    "            ax.add_artist(ell)\n",
    "        \n",
    "\n",
    "fig, axs = plt.subplots(1, 1, figsize=(10, 6))\n",
    "\n",
    "# Distribución de probabilidad (componente)\n",
    "for i in np.unique(clasificacion):\n",
    "    axs.scatter(\n",
    "        x = pca_df.iloc[clasificacion == i, 0],\n",
    "        y = pca_df.iloc[clasificacion == i, 1], \n",
    "        c = plt.rcParams['axes.prop_cycle'].by_key()['color'][i],\n",
    "        marker    = 'o',\n",
    "        edgecolor = 'white', \n",
    "        cmap='viridis',\n",
    "        label= f\"Componente {i}\"\n",
    "    )\n",
    "\n",
    "make_ellipses(modelo_gmm, ax = axs)\n",
    "axs.set_title('Distribución de probabilidad de cada componente')\n",
    "axs.legend()"
   ]
  },
  {
   "cell_type": "code",
   "execution_count": null,
   "metadata": {},
   "outputs": [],
   "source": [
    "fig, axs = plt.subplots(1, 1, figsize=(10, 6))\n",
    "\n",
    "# Distribución de probabilidad (modelo completo)\n",
    "xs = np.linspace(min(pca_df.iloc[:, 0]), max(pca_df.iloc[:, 0]), 1000)\n",
    "ys = np.linspace(min(pca_df.iloc[:, 1]), max(pca_df.iloc[:, 1]), 1000)\n",
    "xx, yy = np.meshgrid(xs, ys)\n",
    "scores = modelo_gmm.score_samples(np.c_[xx.ravel(), yy.ravel()], )\n",
    "axs.scatter(pca_df.iloc[:, 0], pca_df.iloc[:, 1], s=5, alpha=.6, c=plt.cm.tab10(clasificacion), cmap='viridis')\n",
    "scores = np.exp(scores) # Las probabilidades están en log\n",
    "axs.contour(\n",
    "    xx, yy, scores.reshape(xx.shape),\n",
    "    levels=np.percentile(scores, np.linspace(0, 100, 10))[1:-1]\n",
    ")\n",
    "axs.set_title('Distribución de probabilidad del modelo completo')"
   ]
  }
 ],
 "metadata": {
  "language_info": {
   "name": "python"
  },
  "orig_nbformat": 4
 },
 "nbformat": 4,
 "nbformat_minor": 2
}
