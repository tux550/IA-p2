{
 "cells": [
  {
   "cell_type": "code",
   "execution_count": null,
   "metadata": {},
   "outputs": [],
   "source": [
    "import numpy as np\n",
    "import pandas as pd\n",
    "import matplotlib.pyplot as plt\n",
    "import matplotlib as mpl\n",
    "from sklearn import datasets\n",
    "from sklearn.preprocessing import StandardScaler, scale\n",
    "from sklearn.decomposition import PCA\n",
    "from sklearn.mixture import GaussianMixture\n",
    "import seaborn as sns; sns.set()\n",
    "import gdown\n",
    "from PIL import Image, ImageOps\n",
    "from sklearn.cluster import DBSCAN, KMeans\n",
    "from sklearn.metrics import silhouette_samples, silhouette_score\n",
    "from matplotlib import style\n",
    "style.use('ggplot') or plt.style.use('ggplot')\n",
    "from matplotlib.patches import Ellipse\n",
    "from collections import Counter\n",
    "import warnings\n",
    "warnings.filterwarnings('ignore')"
   ]
  },
  {
   "cell_type": "code",
   "execution_count": null,
   "metadata": {},
   "outputs": [],
   "source": [
    "from google.colab import drive\n",
    "drive.mount('/content/drive')"
   ]
  },
  {
   "attachments": {},
   "cell_type": "markdown",
   "metadata": {},
   "source": [
    "# GMM (Libreria)"
   ]
  },
  {
   "cell_type": "code",
   "execution_count": null,
   "metadata": {},
   "outputs": [],
   "source": [
    "#GMM\n",
    "modelo_gmm = GaussianMixture(n_components=7, covariance_type='full', random_state=123)\n",
    "modelo_gmm.fit(pca_df)"
   ]
  },
  {
   "cell_type": "code",
   "execution_count": null,
   "metadata": {},
   "outputs": [],
   "source": [
    "# Media (componente)\n",
    "modelo_gmm.means_\n",
    "\n",
    "# Ellipses\n",
    "def make_ellipses(gmm, ax):\n",
    "    for n in range(gmm.n_components):\n",
    "        if gmm.covariance_type == 'full':\n",
    "            covariances = gmm.covariances_[n]\n",
    "        elif gmm.covariance_type == 'tied':\n",
    "            covariances = gmm.covariances_\n",
    "        elif gmm.covariance_type == 'diag':\n",
    "            covariances = np.diag(gmm.covariances_[n])\n",
    "        elif gmm.covariance_type == 'spherical':\n",
    "            covariances = np.eye(gmm.means_.shape[1]) * gmm.covariances_[n]\n",
    "        v, w = np.linalg.eigh(covariances)\n",
    "        u = w[0] / np.linalg.norm(w[0])\n",
    "        angle = np.arctan2(u[1], u[0])\n",
    "        angle = 180 * angle / np.pi\n",
    "        v = 2. * np.sqrt(2.) * np.sqrt(v)\n",
    "        \n",
    "        for i in range(1,3):\n",
    "            ell = mpl.patches.Ellipse(gmm.means_[n], i*v[0], i*v[1],\n",
    "                                      180 + angle, color=\"blue\")\n",
    "            ell.set_clip_box(ax.bbox)\n",
    "            ell.set_alpha(0.1)\n",
    "            ax.add_artist(ell)\n",
    "        \n",
    "\n",
    "fig, axs = plt.subplots(1, 1, figsize=(10, 6))\n",
    "\n",
    "# Distribución de probabilidad (componente)\n",
    "for i in np.unique(clasificacion):\n",
    "    axs.scatter(\n",
    "        x = pca_df.iloc[clasificacion == i, 0],\n",
    "        y = pca_df.iloc[clasificacion == i, 1], \n",
    "        c = plt.rcParams['axes.prop_cycle'].by_key()['color'][i],\n",
    "        marker    = 'o',\n",
    "        edgecolor = 'white', \n",
    "        cmap='viridis',\n",
    "        label= f\"Componente {i}\"\n",
    "    )\n",
    "\n",
    "make_ellipses(modelo_gmm, ax = axs)\n",
    "axs.set_title('Distribución de probabilidad de cada componente')\n",
    "axs.legend()"
   ]
  },
  {
   "cell_type": "code",
   "execution_count": null,
   "metadata": {},
   "outputs": [],
   "source": [
    "fig, axs = plt.subplots(1, 1, figsize=(10, 6))\n",
    "\n",
    "# Distribución de probabilidad (modelo completo)\n",
    "xs = np.linspace(min(pca_df.iloc[:, 0]), max(pca_df.iloc[:, 0]), 1000)\n",
    "ys = np.linspace(min(pca_df.iloc[:, 1]), max(pca_df.iloc[:, 1]), 1000)\n",
    "xx, yy = np.meshgrid(xs, ys)\n",
    "scores = modelo_gmm.score_samples(np.c_[xx.ravel(), yy.ravel()], )\n",
    "axs.scatter(pca_df.iloc[:, 0], pca_df.iloc[:, 1], s=5, alpha=.6, c=plt.cm.tab10(clasificacion), cmap='viridis')\n",
    "scores = np.exp(scores) # Las probabilidades están en log\n",
    "axs.contour(\n",
    "    xx, yy, scores.reshape(xx.shape),\n",
    "    levels=np.percentile(scores, np.linspace(0, 100, 10))[1:-1]\n",
    ")\n",
    "axs.set_title('Distribución de probabilidad del modelo completo')"
   ]
  },
  {
   "attachments": {},
   "cell_type": "markdown",
   "metadata": {},
   "source": [
    "# K-means (Libreria)"
   ]
  },
  {
   "cell_type": "code",
   "execution_count": null,
   "metadata": {},
   "outputs": [],
   "source": [
    "#KMEANS\n",
    "model_kmeans = KMeans(n_clusters=7)\n",
    "model_kmeans.fit(y)\n",
    "y_kmeans = model_kmeans.predict(y)"
   ]
  },
  {
   "cell_type": "code",
   "execution_count": null,
   "metadata": {},
   "outputs": [],
   "source": [
    "fig, ax = plt.subplots(1, 1, figsize=(10, 6))\n",
    "\n",
    "for i in np.unique(y_kmeans):\n",
    "  ax.scatter(\n",
    "      x=y[:,0], \n",
    "      y=y[:,1], \n",
    "      c=y_kmeans, \n",
    "      s=50, \n",
    "      cmap='viridis',\n",
    "      label= f\"Cluster {i}\"\n",
    "      )\n",
    "\n",
    "centers = model_kmeans.cluster_centers_\n",
    "\n",
    "ax.scatter(\n",
    "    x=centers[:,0],\n",
    "    y=centers[:,1], \n",
    "    c='black', \n",
    "    s=200, \n",
    "    alpha=0.5\n",
    "    )\n",
    "ax.set_title('Cluster generados por kmeans')\n",
    "ax.legend()"
   ]
  },
  {
   "attachments": {},
   "cell_type": "markdown",
   "metadata": {},
   "source": [
    "# DBSCAN (Libreria)"
   ]
  },
  {
   "cell_type": "code",
   "execution_count": null,
   "metadata": {},
   "outputs": [],
   "source": [
    "min_points = 2*2\n",
    "pca_df.shape"
   ]
  },
  {
   "cell_type": "code",
   "execution_count": null,
   "metadata": {},
   "outputs": [],
   "source": [
    "nbrs = NearestNeighbors(n_neighbors=5).fit(pca_df)\n",
    "neigh_dist, neigh_ind = nbrs.kneighbors(pca_df)\n",
    "sort_neigh_dist=np.sort(neigh_dist,axis=0)\n",
    "k_dist=sort_neigh_dist[:,4]\n",
    "plt.plot(k_dist)\n",
    "plt.axhline(y=30,linewidth=1,linestyle='dashed',color='k')\n",
    "plt.ylabel(\"KNN Distance\")\n",
    "plt.xlabel(\"Sorted neighbors distance\")\n",
    "plt.title(\"Distancia Maxima Optima - Epsilon Optimo\")\n",
    "plt.show()"
   ]
  },
  {
   "cell_type": "code",
   "execution_count": null,
   "metadata": {},
   "outputs": [],
   "source": [
    "# DBSCAN\n",
    "modelo_dbscan2 = DBSCAN(eps=6,min_samples=min_points, metric='euclidean')\n",
    "modelo_dbscan2.fit_predict(pca_df)\n",
    "labels2 = modelo_dbscan2.labels_\n",
    "n_clusters2 = len(set(labels2)) - (1 if -1 in labels else 0)\n",
    "print(f'Número de clusters encontrados: {n_clusters2}')"
   ]
  },
  {
   "cell_type": "code",
   "execution_count": null,
   "metadata": {},
   "outputs": [],
   "source": [
    "fig, ax = plt.subplots(1, 1, figsize=(10,6))\n",
    "\n",
    "ax.scatter(\n",
    "    x = pca_df.iloc[:, 0],\n",
    "    y = pca_df.iloc[:, 1], \n",
    "    c = labels2,\n",
    "    marker    = 'o',\n",
    "    edgecolor = 'black',\n",
    "    cmap='viridis'\n",
    ")\n",
    "\n",
    "# Los outliers se identifican con el label -1\n",
    "ax.scatter(\n",
    "    x = pca_df.iloc[labels2 == -1, 0],\n",
    "    y = pca_df.iloc[labels2 == -1, 1], \n",
    "    c = 'white',\n",
    "    marker    = 'o',\n",
    "    edgecolor = 'black',\n",
    "    label = 'noise',\n",
    "    cmap='viridis'\n",
    ")\n",
    "\n",
    "ax.legend()\n",
    "ax.set_title('Clusterings para los 7 tejidos generados por DBSCAN')"
   ]
  }
 ],
 "metadata": {
  "language_info": {
   "name": "python"
  },
  "orig_nbformat": 4
 },
 "nbformat": 4,
 "nbformat_minor": 2
}
